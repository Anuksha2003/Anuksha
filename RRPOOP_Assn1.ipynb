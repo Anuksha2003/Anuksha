{
 "cells": [
  {
   "cell_type": "code",
   "execution_count": 8,
   "id": "544ad41a",
   "metadata": {},
   "outputs": [
    {
     "name": "stdout",
     "output_type": "stream",
     "text": [
      "Enter length:\n",
      "4\n",
      "Enter breadth:\n",
      "3\n",
      "Enter 1 for area ,2 for perimeter,3 to change dimensions and 4 to report dimensions:\n",
      "\n",
      "3\n",
      "Enter new length: \n",
      "6\n",
      "Enter new breadth: \n",
      "7\n",
      "Your new dimensions are 6 and 7\n",
      "None\n"
     ]
    }
   ],
   "source": [
    "class rectangle():\n",
    "    def __init__(self,length,breadth):\n",
    "        self.length=length\n",
    "        self.breadth=breadth\n",
    "    def area(self):\n",
    "        return (self.length*self.breadth)\n",
    "    def perimeter(self):\n",
    "        return (2*(self.length+self.breadth))\n",
    "    def changeDimensions(self):\n",
    "        print(\"Enter new length: \")\n",
    "        self.length=eval(input())\n",
    "        print(\"Enter new breadth: \")\n",
    "        self.breadth=eval(input())\n",
    "        print(f\"Your new dimensions are {self.length} and {self.breadth}\")\n",
    "    def reportDimensions(self):\n",
    "        print(self.length)\n",
    "        print(self.breadth)\n",
    "\n",
    "        \n",
    "print(\"Enter length:\")\n",
    "l=eval(input())\n",
    "print(\"Enter breadth:\")\n",
    "b=eval(input())\n",
    "print(\"Enter 1 for area ,2 for perimeter,3 to change dimensions and 4 to report dimensions:\\n\")\n",
    "choice=int(input())\n",
    "rect1 = rectangle(l,b)\n",
    "if (choice==1): \n",
    "    print(\"Area:\")\n",
    "    print(rect1.area())\n",
    "elif (choice==2):\n",
    "    print(\"Perimeter:\")\n",
    "    print(rect1.perimeter())\n",
    "elif (choice==3):\n",
    "    print(rect1.changeDimensions())\n",
    "elif (choice==4):\n",
    "    print(\"Dimensions: \")\n",
    "    print(rect1.reportDimensions())\n",
    "else:\n",
    "    print(\"Invalid Input\")\n",
    "\n",
    "    \n",
    "       \n",
    " \n",
    "\n",
    "\n",
    "        \n",
    "\n",
    "\n"
   ]
  },
  {
   "cell_type": "code",
   "execution_count": null,
   "id": "83f66cdc",
   "metadata": {},
   "outputs": [],
   "source": []
  },
  {
   "cell_type": "code",
   "execution_count": null,
   "id": "8649e790",
   "metadata": {},
   "outputs": [],
   "source": []
  }
 ],
 "metadata": {
  "kernelspec": {
   "display_name": "Python 3 (ipykernel)",
   "language": "python",
   "name": "python3"
  },
  "language_info": {
   "codemirror_mode": {
    "name": "ipython",
    "version": 3
   },
   "file_extension": ".py",
   "mimetype": "text/x-python",
   "name": "python",
   "nbconvert_exporter": "python",
   "pygments_lexer": "ipython3",
   "version": "3.9.13"
  }
 },
 "nbformat": 4,
 "nbformat_minor": 5
}
