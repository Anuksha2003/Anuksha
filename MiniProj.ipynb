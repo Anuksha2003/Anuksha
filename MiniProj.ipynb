{
 "cells": [
  {
   "cell_type": "code",
   "execution_count": null,
   "id": "3b7fa73f",
   "metadata": {},
   "outputs": [],
   "source": [
    "import tkinter as Tk\n",
    "root=Tk()\n",
    "root.title(\"Student data filtering\")\n",
    "root.geometry(\"800x800\")\n",
    "main=Label(root,text=\"COEP Student data\").place(x = 350, y = 40)\n",
    "name=Button(root,text=\"Name\").place(x = 40, y = 100)\n",
    "mis=Button(root,text=\"MIS\").place(x = 120, y = 100)\n",
    "cgpa=Button(root,text=\"CGPA\").place(x = 200, y = 100)\n",
    "all=Button(root,text=\"All\").place(x = 280, y = 100)\n",
    "root.mainloop()"
   ]
  },
  {
   "cell_type": "code",
   "execution_count": null,
   "id": "c1e5638a",
   "metadata": {},
   "outputs": [],
   "source": [
    "import pandas as pd \n"
   ]
  }
 ],
 "metadata": {
  "kernelspec": {
   "display_name": "Python 3 (ipykernel)",
   "language": "python",
   "name": "python3"
  },
  "language_info": {
   "codemirror_mode": {
    "name": "ipython",
    "version": 3
   },
   "file_extension": ".py",
   "mimetype": "text/x-python",
   "name": "python",
   "nbconvert_exporter": "python",
   "pygments_lexer": "ipython3",
   "version": "3.9.13"
  }
 },
 "nbformat": 4,
 "nbformat_minor": 5
}
