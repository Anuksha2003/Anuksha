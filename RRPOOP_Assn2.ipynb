{
 "cells": [
  {
   "cell_type": "code",
   "execution_count": 16,
   "id": "72e62451",
   "metadata": {},
   "outputs": [
    {
     "name": "stdout",
     "output_type": "stream",
     "text": [
      "Enter 1 for rectangle, 2 for square and 3 for triangle:\n",
      "3\n",
      "Enter base and height:\n",
      "5\n",
      "12\n",
      "Enter 1 for area and 2 for perimeter:\n",
      "2\n",
      "30.0\n"
     ]
    }
   ],
   "source": [
    "#Inheritance+Polymorphism\n",
    "class polygon():\n",
    "    def area(self):\n",
    "        pass\n",
    "    def perimeter(self):\n",
    "        pass\n",
    "class rectangle(polygon):\n",
    "    def __init__(self,length,breadth):\n",
    "        self.length=length\n",
    "        self.breadth=breadth\n",
    "    def area(self):\n",
    "        return (self.length*self.breadth)\n",
    "    def perimeter(self):\n",
    "        return (2*(self.length+self.breadth))\n",
    "class square(polygon):\n",
    "    def __init__(self,side):\n",
    "        self.side=side\n",
    "    def perimeter(self):\n",
    "        return (4*self.side)\n",
    "    def area(self):\n",
    "        return (self.side*self.side)\n",
    "class triangle(polygon):\n",
    "    def __init__(self,s1,s2,s3):\n",
    "        self.s1=s1\n",
    "        self.s2=s2\n",
    "        self.s3=s3\n",
    "    def area(self):\n",
    "        s=(s1+s2+s3)/2;\n",
    "        return ((s*(s-s1)*(s-s2)*(s-s3))**0.5)\n",
    "    def perimeter(self):\n",
    "        return (s1+s2+s3)\n",
    "\n",
    "print(\"Enter 1 for rectangle, 2 for square and 3 for triangle:\")\n",
    "choice=int(input())\n",
    "if (choice==1):\n",
    "    print(\"Enter length and breadth:\")\n",
    "    l=eval(input())\n",
    "    b=eval(input())\n",
    "    rect1=rectangle(l,b)\n",
    "    print(\"Enter 1 for area and 2 for perimeter:\")\n",
    "    ch1=int(input())\n",
    "    if (ch1==1):\n",
    "        print(rect1.area())\n",
    "    elif (ch1==2):\n",
    "        print(rect1.perimeter())\n",
    "    else:\n",
    "        print(\"Invalid Input\")\n",
    "elif (choice==2):\n",
    "    print(\"Enter side:\")\n",
    "    s=eval(input())\n",
    "    sq1=square(s)\n",
    "    print(\"Enter 1 for area and 2 for perimeter:\")\n",
    "    ch2=int(input())\n",
    "    if (ch2==1):\n",
    "        print(sq1.area())\n",
    "    elif (ch2==2):\n",
    "        print(sq1.perimeter())\n",
    "    else:\n",
    "        print(\"Invalid Input\")\n",
    "elif (choice==3):\n",
    "    print(\"Enter base and height:\")\n",
    "    b=eval(input())\n",
    "    h=eval(input())\n",
    "    tr1=triangle(b,h)\n",
    "    print(\"Enter 1 for area and 2 for perimeter:\")\n",
    "    ch3=int(input())\n",
    "    if (ch3==1):\n",
    "        print(tr1.area())\n",
    "    elif (ch3==2):\n",
    "        print(tr1.perimeter())\n",
    "    else:\n",
    "        print(\"Invalid Input\")\n",
    "else:\n",
    "    print(\"Invalid Input\")\n",
    "\n",
    "    "
   ]
  },
  {
   "cell_type": "code",
   "execution_count": 1,
   "id": "2c4f9d29",
   "metadata": {},
   "outputs": [
    {
     "name": "stdout",
     "output_type": "stream",
     "text": [
      "Enter length of rectangle: \n",
      "5\n",
      "Enter breadth of rectangle: \n",
      "4\n",
      "20\n",
      "18\n"
     ]
    }
   ],
   "source": [
    "#Single Inheritance\n",
    "class polygon():\n",
    "    def area(self):\n",
    "        pass\n",
    "    def perimeter(self):\n",
    "        pass\n",
    "class rectangle(polygon):\n",
    "    def __init__(self,length,breadth):\n",
    "        self.length=length\n",
    "        self.breadth=breadth\n",
    "    def area(self):\n",
    "        return (self.length*self.breadth)\n",
    "    def perimeter(self):\n",
    "        return (2*(self.length+self.breadth))\n",
    "print(\"Enter length of rectangle: \")\n",
    "l=eval(input())\n",
    "print(\"Enter breadth of rectangle: \")\n",
    "b=eval(input())\n",
    "rect=rectangle(l,b)\n",
    "print(rect.area())\n",
    "print(rect.perimeter())"
   ]
  },
  {
   "cell_type": "code",
   "execution_count": 3,
   "id": "24b7e6c7",
   "metadata": {},
   "outputs": [
    {
     "name": "stdout",
     "output_type": "stream",
     "text": [
      "Enter base and height of triangle:\n",
      "3\n",
      "5\n",
      "7.5\n",
      "13.8309518948453\n"
     ]
    }
   ],
   "source": [
    "#Multilevel Inheritance\n",
    "class polygon():\n",
    "    def area(self):\n",
    "        pass\n",
    "    def perimeter(self):\n",
    "        pass\n",
    "class triangle(polygon):\n",
    "    def __init__(self,s1,s2,s3):\n",
    "        self.s1=s1\n",
    "        self.s2=s2\n",
    "        self.s3=s3\n",
    "    def area(self):\n",
    "        s=(s1+s2+s3)/2;\n",
    "        return ((s*(s-s1)*(s-s2)*(s-s3))**0.5)\n",
    "    def perimeter(self):\n",
    "        return (s1+s2+s3)\n",
    "class right_triangle(triangle):\n",
    "    def __init__(self,base,height):\n",
    "        self.base=base;\n",
    "        self.height=height;\n",
    "    def area(self):\n",
    "        return (0.5*self.base*self.height)\n",
    "    def perimeter(self):\n",
    "        return (self.base+self.height+((self.base*self.base)+(self.height*self.height))**(0.5))\n",
    "\n",
    "print(\"Enter base and height of triangle:\")\n",
    "b=eval(input())\n",
    "h=eval(input())\n",
    "tri=right_triangle(b,h)\n",
    "print(tri.area())\n",
    "print(tri.perimeter())"
   ]
  },
  {
   "cell_type": "code",
   "execution_count": 5,
   "id": "9ec9af37",
   "metadata": {},
   "outputs": [
    {
     "name": "stdout",
     "output_type": "stream",
     "text": [
      "Enter base and height of triangle:\n",
      "4\n",
      "5\n",
      "10.0\n",
      "15.403124237432849\n"
     ]
    }
   ],
   "source": [
    "#Hierarchical Inheritance\n",
    "class polygon():\n",
    "    def area(self):\n",
    "        pass\n",
    "    def perimeter(self):\n",
    "        pass\n",
    "class triangle(polygon):\n",
    "    def __init__(self,s1,s2,s3):\n",
    "        self.s1=s1\n",
    "        self.s2=s2\n",
    "        self.s3=s3\n",
    "    def area(self):\n",
    "        s=(s1+s2+s3)/2;\n",
    "        return ((s*(s-s1)*(s-s2)*(s-s3))**0.5)\n",
    "    def perimeter(self):\n",
    "        return (s1+s2+s3)\n",
    "class right_triangle(triangle):\n",
    "    def __init__(self,base,height):\n",
    "        self.base=base\n",
    "        self.height=height\n",
    "    def area(self):\n",
    "        return (0.5*self.base*self.height)\n",
    "    def perimeter(self):\n",
    "        return (self.base+self.height+((self.base*self.base)+(self.height*self.height))**(0.5))\n",
    "class equilateral_triangle(triangle):\n",
    "    def __init__(self,side):\n",
    "        self.side=side\n",
    "    def area(self):\n",
    "        return ()\n",
    "        \n",
    "\n",
    "print(\"Enter base and height of triangle:\")\n",
    "b=eval(input())\n",
    "h=eval(input())\n",
    "tri=right_triangle(b,h)\n",
    "print(tri.area())\n",
    "print(tri.perimeter())"
   ]
  },
  {
   "cell_type": "code",
   "execution_count": null,
   "id": "9364e023",
   "metadata": {},
   "outputs": [],
   "source": [
    "\n"
   ]
  }
 ],
 "metadata": {
  "kernelspec": {
   "display_name": "Python 3 (ipykernel)",
   "language": "python",
   "name": "python3"
  },
  "language_info": {
   "codemirror_mode": {
    "name": "ipython",
    "version": 3
   },
   "file_extension": ".py",
   "mimetype": "text/x-python",
   "name": "python",
   "nbconvert_exporter": "python",
   "pygments_lexer": "ipython3",
   "version": "3.9.13"
  }
 },
 "nbformat": 4,
 "nbformat_minor": 5
}
